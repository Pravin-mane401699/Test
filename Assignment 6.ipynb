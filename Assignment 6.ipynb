{
 "cells": [
  {
   "cell_type": "markdown",
   "id": "ad5f6c42-85cf-459b-b8ba-4cfa040b685b",
   "metadata": {},
   "source": [
    "Q-1] What are keywords in python? Using the keyword library , print all the python keywords."
   ]
  },
  {
   "cell_type": "markdown",
   "id": "602c6a05-a308-4076-bf10-52d4835e9400",
   "metadata": {},
   "source": [
    "Ans:-Keywords are predefined, reserved words used in python programming that have special meanings to the compiler. We connot use a keyword as a variable name, function name, or any other identifier. They are used to define the syntax and structure of the python language."
   ]
  },
  {
   "cell_type": "code",
   "execution_count": 4,
   "id": "3d26a5e6-c9e9-49a3-a8bb-9628a47fc574",
   "metadata": {},
   "outputs": [
    {
     "name": "stdout",
     "output_type": "stream",
     "text": [
      "['False', 'None', 'True', 'and', 'as', 'assert', 'async', 'await', 'break', 'class', 'continue', 'def', 'del', 'elif', 'else', 'except', 'finally', 'for', 'from', 'global', 'if', 'import', 'in', 'is', 'lambda', 'nonlocal', 'not', 'or', 'pass', 'raise', 'return', 'try', 'while', 'with', 'yield']\n"
     ]
    }
   ],
   "source": [
    "import keyword\n",
    "print(keyword.kwlist)"
   ]
  },
  {
   "cell_type": "markdown",
   "id": "919dca81-82f1-4fb6-baed-1e8e9816ebff",
   "metadata": {},
   "source": [
    "Q-2]What are the rules to create variables in python?"
   ]
  },
  {
   "cell_type": "markdown",
   "id": "2f50d271-9ceb-43c8-ba31-6d3ade3c5a03",
   "metadata": {},
   "source": [
    "Ans:-Rules for python variables:-\n",
    "1] A variable name must start with a letter or the underscore character.\n",
    "2] A variable name cannot start with a number.\n",
    "3] A variable name can only contain alpha-numeric character and underscores.\n",
    "4] Variable names are case-sensitive."
   ]
  },
  {
   "cell_type": "markdown",
   "id": "d404a280-37a4-4275-9a42-7afc1ad279ee",
   "metadata": {},
   "source": [
    "Q-3] What are the standards and conventions followed for the nomenclature of variables in python to improve code readability and maintainability?"
   ]
  },
  {
   "cell_type": "markdown",
   "id": "9913cce9-6aae-4148-80ba-434c395e305c",
   "metadata": {},
   "source": [
    "Ans:-According to pep8, variable names should be lowercase letters with words separated by undercsores (snake_case) . Additionally variable names should be descriptive and not too long"
   ]
  },
  {
   "cell_type": "markdown",
   "id": "d54c9392-f80e-48a0-ad83-dc1909f84e03",
   "metadata": {},
   "source": [
    "Q-4] What will happen if a keyword is used as a variable name? "
   ]
  },
  {
   "cell_type": "markdown",
   "id": "44e7caa1-fd62-4179-9419-c7cf0350478b",
   "metadata": {},
   "source": [
    "Ans:- We cannot use a keyword as a variable name. otherwise it will throw error."
   ]
  },
  {
   "cell_type": "markdown",
   "id": "5efa387b-9190-4daf-85b8-e6abd98cfcf6",
   "metadata": {},
   "source": [
    "Q-5] For what purpose def keyword is used?"
   ]
  },
  {
   "cell_type": "markdown",
   "id": "2545c9f1-a32b-4c62-acc8-cb516d36993d",
   "metadata": {},
   "source": [
    "Ans:-Python def keyword is used to define a function, it is placed before a function name that is provided by the user to create a user-defined function."
   ]
  },
  {
   "cell_type": "markdown",
   "id": "0030f88a-3397-43bd-80e4-2df8e755391d",
   "metadata": {},
   "source": [
    "Q-6] What is the operation of this special character '\\'?"
   ]
  },
  {
   "cell_type": "markdown",
   "id": "c7a855c6-3eed-4280-9daf-8c5bdef934d9",
   "metadata": {},
   "source": [
    "Ans:- This is called backslash escaping the character. in most cases, when you backslash-escape a character, you quote it."
   ]
  },
  {
   "cell_type": "markdown",
   "id": "5cf370f6-7425-4b8f-9f84-1d46a066553b",
   "metadata": {},
   "source": [
    "Q-7] Give an example of the following conditions:    \n",
    "(i) Homogeneous list (ii) Heterogeneous set   (iii) Homogeneous tuple"
   ]
  },
  {
   "cell_type": "code",
   "execution_count": 2,
   "id": "7960d25b-a2a7-4abb-b370-6c4b9bce54f0",
   "metadata": {},
   "outputs": [],
   "source": [
    "# Ans:- (i) Homogeneous list- We can store same type of data(like integer)\n",
    "l=[1,2,3,4,5,6,7]\n",
    "# (ii) Heterogeneous set -refers to a collection that can hold elements of different data types\n",
    "my_set = ['apple',1,2.5,(45,58,98,68)]\n",
    "# (iii) Homogeneous tuple-refers to a collections that can hold element of the same data type\n",
    "my_tuple=(1,2,3,4,5)"
   ]
  },
  {
   "cell_type": "markdown",
   "id": "d9c68142-29bd-4bde-bbdd-5f156a0faeef",
   "metadata": {},
   "source": [
    "Q-8] Explain the mutable and immutable data types with proper explanation & examples."
   ]
  },
  {
   "cell_type": "markdown",
   "id": "7bc1172c-f9ab-430d-917e-d711fd450d91",
   "metadata": {},
   "source": [
    "Ans:- Mutable is when something is changeable or has the ability to change. in python,'mutable' is the ability of objects to change their values. These are often the object that store a collection of data.  Immutable is the when no change is possible over time. in python, if the value of an object cannot be changed over time then it is known as immutable. Once created the value of these objects is permanent.   \n",
    "mutable data types: Lists, Sets, Dictionaries and immutable data types:- Numbers, Strings, Tuples, Frozen set"
   ]
  },
  {
   "cell_type": "markdown",
   "id": "ab13ef1b-5132-4da3-b42c-856fa2ee74c9",
   "metadata": {},
   "source": [
    "Q-9] Write a code to create the given structure using only for loop."
   ]
  },
  {
   "cell_type": "code",
   "execution_count": 9,
   "id": "079584b4-4ad9-49f4-a2d2-9d3d77bd13ed",
   "metadata": {},
   "outputs": [
    {
     "name": "stdout",
     "output_type": "stream",
     "text": [
      "        * \n",
      "      * * * \n",
      "    * * * * * \n",
      "  * * * * * * * \n",
      "* * * * * * * * * \n"
     ]
    }
   ],
   "source": [
    "# Ans:- \n",
    "n=5\n",
    "for i in range(n):\n",
    "    for j in range(n-i-1):\n",
    "        print(\" \", end=\" \")\n",
    "    for k in range(2*i+1):\n",
    "        print(\"*\", end=' ')\n",
    "    print()\n",
    "    "
   ]
  },
  {
   "cell_type": "markdown",
   "id": "3ac28baa-c3ba-4704-9348-63fed75e6188",
   "metadata": {},
   "source": [
    "Q-10] Write a code to create the given structure using while loop"
   ]
  },
  {
   "cell_type": "code",
   "execution_count": 12,
   "id": "4a3231ea-05b8-446f-bcf4-230fed021fbc",
   "metadata": {},
   "outputs": [
    {
     "name": "stdout",
     "output_type": "stream",
     "text": [
      "|||||||||\n",
      " ||||||| \n",
      "  |||||  \n",
      "   |||   \n",
      "    |    \n"
     ]
    }
   ],
   "source": [
    "# Ans:-\n",
    "a='|'\n",
    "n=9\n",
    "s=n\n",
    "while n>=1:\n",
    "    st=a*n\n",
    "    print(st.center(s, ' '))\n",
    "    n=n-2"
   ]
  },
  {
   "cell_type": "code",
   "execution_count": null,
   "id": "3d784d6a-6aba-4a3a-9677-1cd4a8b4c8d3",
   "metadata": {},
   "outputs": [],
   "source": []
  }
 ],
 "metadata": {
  "kernelspec": {
   "display_name": "Python 3 (ipykernel)",
   "language": "python",
   "name": "python3"
  },
  "language_info": {
   "codemirror_mode": {
    "name": "ipython",
    "version": 3
   },
   "file_extension": ".py",
   "mimetype": "text/x-python",
   "name": "python",
   "nbconvert_exporter": "python",
   "pygments_lexer": "ipython3",
   "version": "3.10.6"
  }
 },
 "nbformat": 4,
 "nbformat_minor": 5
}
