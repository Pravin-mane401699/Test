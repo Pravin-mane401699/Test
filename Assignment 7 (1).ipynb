{
 "cells": [
  {
   "cell_type": "markdown",
   "id": "5efcf0b3-0f57-4b81-b2a8-06890023ab37",
   "metadata": {},
   "source": [
    "Q-1] Create two int type variables. apply addition, subtraction, division and multiplications and store the results in variables. Then print the data in the following format by calling the variables."
   ]
  },
  {
   "cell_type": "code",
   "execution_count": 19,
   "id": "f8241a3a-1884-4be5-a6ff-c88d23bc14db",
   "metadata": {},
   "outputs": [],
   "source": [
    "# Ans:-\n",
    "def Cal(a,b):\n",
    "    result=0\n",
    "    print(f\"First variable is {a} & second variable is {b}\")\n",
    "    result=a+b\n",
    "    print(f\"Addition : {a}+{b} = {result}\")\n",
    "    result=a-b\n",
    "    print(f\"Subtraction : {a}-{b} = {result}\")\n",
    "    result=a*b\n",
    "    print(f\"Multiplication : {a}*{b} = {result}\")\n",
    "    result=a/b\n",
    "    print(f\"Division : {a}/{b} = {result}\")"
   ]
  },
  {
   "cell_type": "code",
   "execution_count": 20,
   "id": "411c6761-a738-4094-938e-51765b50bdb9",
   "metadata": {},
   "outputs": [
    {
     "name": "stdout",
     "output_type": "stream",
     "text": [
      "First variable is 15 & second variable is 5\n",
      "Addition : 15+5 = 20\n",
      "Subtraction : 15-5 = 10\n",
      "Multiplication : 15*5 = 75\n",
      "Division : 15/5 = 3.0\n"
     ]
    }
   ],
   "source": [
    "Cal(15,5)"
   ]
  },
  {
   "cell_type": "markdown",
   "id": "b2f11fa1-d02e-4178-a6be-d754780bcdf4",
   "metadata": {},
   "source": [
    "Q-2] What is the difference between the following operators:    \n",
    "(i) '/' & ' // '    \n",
    "(ii) ' ** ' & '^ '\n",
    "\n"
   ]
  },
  {
   "cell_type": "markdown",
   "id": "4ef83366-0a29-439e-b3d7-e3fc0ad9a52e",
   "metadata": {},
   "source": [
    "Ans:- '/ ' and ' // ' belong to the arithmetic operators.   \n",
    "'/' is used for the normal division of two numbers.   \n",
    "'//' is used to obtain the smallest integer nearest to the quotient obtained by dividing two numbers.    \n",
    "and        \n",
    "In python \"**\" is the exponentiation operator      \n",
    "XOR is the bitwise XOR of the two numbers. in other words, write each number in binary, then take XOR of the two numbers one place at a time\n",
    "\n",
    "\n"
   ]
  },
  {
   "cell_type": "markdown",
   "id": "44757e14-6361-4bd7-b016-d6849e36eaa5",
   "metadata": {},
   "source": [
    "Q-3] List the logical operators."
   ]
  },
  {
   "cell_type": "markdown",
   "id": "13379faa-b9ab-411c-9dc6-8ee5ac8ba73b",
   "metadata": {},
   "source": [
    "Ans:-Python has three Boolean operators, or logical operators: and , or, and not."
   ]
  },
  {
   "cell_type": "markdown",
   "id": "d6bf606a-375f-436a-8435-25f9f0f6e1aa",
   "metadata": {},
   "source": [
    "Q-4] Explain right shift operator and left shift operator with examples."
   ]
  },
  {
   "cell_type": "markdown",
   "id": "594fc04e-b13a-4afe-8806-5f5c40c3bf34",
   "metadata": {},
   "source": [
    "Ans:- The right shift (>>) operator returns a number or BigInt whose binary representation is the first operand shifted by the specified number of bits to the right.\n",
    "101>>2 =  1    \n",
    "The left shift (<<) operator returns a number or BigInt whose binary representation is the first operand shifted by the specified number of bits to the left.\n",
    "101<<2 = 20\n",
    "  \n"
   ]
  },
  {
   "cell_type": "markdown",
   "id": "85fef096-071b-43c6-a107-269872de36c8",
   "metadata": {},
   "source": [
    "Q-5] Create a list containing int type data of length 15. Then write a code to check if 10 is present in the list or not."
   ]
  },
  {
   "cell_type": "code",
   "execution_count": 54,
   "id": "58412853-3723-46d0-a124-fc711ad562bd",
   "metadata": {},
   "outputs": [
    {
     "name": "stdout",
     "output_type": "stream",
     "text": [
      "10 is presnt in the list\n"
     ]
    }
   ],
   "source": [
    "#Ans:-\n",
    "l=[1,2,3,5,8,15,14,26,47,19,49,36,10,46,52]\n",
    "if 10 in l:\n",
    "    print(\"10 is presnt in the list\")\n",
    "else:\n",
    "    print(\"10 is not in the list\")"
   ]
  },
  {
   "cell_type": "code",
   "execution_count": null,
   "id": "85352242-3a2a-46a4-826e-f7bad0e047b3",
   "metadata": {},
   "outputs": [],
   "source": []
  }
 ],
 "metadata": {
  "kernelspec": {
   "display_name": "Python 3 (ipykernel)",
   "language": "python",
   "name": "python3"
  },
  "language_info": {
   "codemirror_mode": {
    "name": "ipython",
    "version": 3
   },
   "file_extension": ".py",
   "mimetype": "text/x-python",
   "name": "python",
   "nbconvert_exporter": "python",
   "pygments_lexer": "ipython3",
   "version": "3.10.6"
  }
 },
 "nbformat": 4,
 "nbformat_minor": 5
}
