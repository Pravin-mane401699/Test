{
 "cells": [
  {
   "cell_type": "markdown",
   "id": "3294d103",
   "metadata": {},
   "source": [
    "Q-1] What is the primary goal of Object-Oriented Programming(OOP)?"
   ]
  },
  {
   "cell_type": "markdown",
   "id": "862c3a48",
   "metadata": {},
   "source": [
    "Ans:-The primary goal of object-oriented programming(oop) is to design software in a way that models real-world entities and their interaction. OOP is a programming paradigm that revolves around the concept of \"objects\" which are instances of classes representing data and behaviers"
   ]
  },
  {
   "cell_type": "markdown",
   "id": "fce83755",
   "metadata": {},
   "source": [
    "Q-2] What is an object in python?"
   ]
  },
  {
   "cell_type": "markdown",
   "id": "174782c6",
   "metadata": {},
   "source": [
    "Ans:- In python, an object is a fundamental concept of the object-oriented programming paradigm. An object ia an instance of a class , and a class is a blueprint that defines the attributes and behaviors of the objects created from it. "
   ]
  },
  {
   "cell_type": "markdown",
   "id": "63809e06",
   "metadata": {},
   "source": [
    "Q-3] What is a class in python?"
   ]
  },
  {
   "cell_type": "markdown",
   "id": "7d45e812",
   "metadata": {},
   "source": [
    "Ans:-In python, a class is a blueprint or a template for creating objects. It is a fundamental concept of object priented programming . A class defines a set of attributes(variable) and methods(function) that will be shared by all instances(objects) created from that class."
   ]
  },
  {
   "cell_type": "markdown",
   "id": "d8551c8f",
   "metadata": {},
   "source": [
    "Q-4] What are attributes and methods in a class?"
   ]
  },
  {
   "cell_type": "markdown",
   "id": "10636b58",
   "metadata": {},
   "source": [
    "Ans:- In a class, attributes and methods are two fundamental components that define the behavior and characteristics of objects created from that class in object-oriented programming."
   ]
  },
  {
   "cell_type": "markdown",
   "id": "11e83985",
   "metadata": {},
   "source": [
    "Q-5] What is the difference between class variables and instance variables in python?"
   ]
  },
  {
   "cell_type": "code",
   "execution_count": 1,
   "id": "ad36887f",
   "metadata": {},
   "outputs": [],
   "source": [
    "#Ans:- In python, class variable and instance variable are two types of attributes that can be defined within a class.   \n",
    "#class variables:- class variables are attributes that are shared by all instances(objects) of the class. They are defined at the class level and remain the same for all objects created from that class. These variables are associated with the class itself rather than any particular instance of the class. To define a class variable, you declare it directly inside the class, outside any methods, without using the 'self' keyword. Class variables are typically used when you want to store data that is common to all objects of the class.\n",
    "class Car:\n",
    "    # class variable\n",
    "    wheels=4\n",
    "    def __init__(self,make,model):\n",
    "        self.make=make\n",
    "        self.model=model\n",
    "        "
   ]
  },
  {
   "cell_type": "code",
   "execution_count": 2,
   "id": "0c3e2b08",
   "metadata": {},
   "outputs": [],
   "source": [
    "car1=Car(\"Toyota\",\"Corolla\")"
   ]
  },
  {
   "cell_type": "code",
   "execution_count": 3,
   "id": "54365a92",
   "metadata": {},
   "outputs": [],
   "source": [
    "car2=Car(\"Honda\",\"Civic\")"
   ]
  },
  {
   "cell_type": "code",
   "execution_count": 4,
   "id": "9232bd31",
   "metadata": {},
   "outputs": [
    {
     "name": "stdout",
     "output_type": "stream",
     "text": [
      "4\n",
      "4\n"
     ]
    }
   ],
   "source": [
    "print(car1.wheels)\n",
    "print(car2.wheels)"
   ]
  },
  {
   "cell_type": "code",
   "execution_count": 5,
   "id": "43e48a65",
   "metadata": {},
   "outputs": [],
   "source": [
    "# instance Variables:- Instance variables are attributes that are unique to each instance (object) of the class. They are defined and initialized within the '__init__' method using self keyword.\n",
    "class Person:\n",
    "    def __init__(self,name,age):\n",
    "        # instance variable\n",
    "        self.name=name\n",
    "        self.age=age\n",
    "        "
   ]
  },
  {
   "cell_type": "code",
   "execution_count": 6,
   "id": "2e389f13",
   "metadata": {},
   "outputs": [],
   "source": [
    "person1=Person(\"Alice\",30)\n",
    "person2=Person(\"Bob\",25)"
   ]
  },
  {
   "cell_type": "code",
   "execution_count": 7,
   "id": "37db0806",
   "metadata": {},
   "outputs": [
    {
     "name": "stdout",
     "output_type": "stream",
     "text": [
      "Alice\n",
      "Bob\n"
     ]
    }
   ],
   "source": [
    "print(person1.name)\n",
    "print(person2.name)"
   ]
  },
  {
   "cell_type": "markdown",
   "id": "97e608c4",
   "metadata": {},
   "source": [
    "Q-6] What is the purpose of the self parameter in python class methods?"
   ]
  },
  {
   "cell_type": "markdown",
   "id": "43a259d0",
   "metadata": {},
   "source": [
    "Ans:- In Python, the 'self' parameter is a convention used in class methods to refer to the instance of the class itself. It is the first parameter of most instance methods in a class and represents the objects on which the method is being called.     \n",
    "When you define a method in a class and use 'self' as the first parameter, you are telling Python to pass the instance (object) on which the method is called as the first argument automatically."
   ]
  },
  {
   "cell_type": "markdown",
   "id": "cd808759",
   "metadata": {},
   "source": [
    "Q-7] For a library management system, you have to design the 'book' class with OOP principles in mind."
   ]
  },
  {
   "cell_type": "code",
   "execution_count": 1,
   "id": "48d2fb34",
   "metadata": {},
   "outputs": [],
   "source": [
    "#Ans:- \n",
    "class Book:\n",
    "    def __init__(self,title,author,isbn,publication_year,available_copies=250):\n",
    "        self.title=title\n",
    "        self.author=author\n",
    "        self.isbn=isbn\n",
    "        self.publication_year=publication_year\n",
    "        self.available_copies=available_copies\n",
    "    def check_out(self):\n",
    "        if self.available_copies > 0:\n",
    "            self.available_copies -= 1\n",
    "            print(f\"{self.title} by {self.author} has been checked out.\")\n",
    "        else:\n",
    "            print(f\"Sorry, no available copies of {self.title} by {self.author}.\")\n",
    "            \n",
    "    def return_book(self):\n",
    "        self.available_copies+=1\n",
    "        print(f\"{self.title} by {self.author} has been returned.\")\n",
    "    def display_book_info(self):\n",
    "        print(f\"Book Information:\")\n",
    "        print(f\"Title : {self.title}\")\n",
    "        print(f\"Author(s) : {self.author}\")\n",
    "        print(f\"ISBN : {self.isbn}\")\n",
    "        print(f\"Publication year: {self.publication_year}\")\n",
    "        print(f\"Available copies: {self.available_copies}\")\n",
    "        "
   ]
  },
  {
   "cell_type": "code",
   "execution_count": 2,
   "id": "d80cdebc",
   "metadata": {},
   "outputs": [],
   "source": [
    "LBook=Book(\"Sample book\",\"John Doe\",1256,1991,3)"
   ]
  },
  {
   "cell_type": "code",
   "execution_count": 3,
   "id": "a0171af6",
   "metadata": {},
   "outputs": [
    {
     "name": "stdout",
     "output_type": "stream",
     "text": [
      "Book Information:\n",
      "Title : Sample book\n",
      "Author(s) : John Doe\n",
      "ISBN : 1256\n",
      "Publication year: 1991\n",
      "Available copies: 3\n"
     ]
    }
   ],
   "source": [
    "LBook.display_book_info()"
   ]
  },
  {
   "cell_type": "markdown",
   "id": "ad6065aa",
   "metadata": {},
   "source": [
    "Q-8] For a ticket booking system you have to design the \"Ticket\" class with OOP principles in mind."
   ]
  },
  {
   "cell_type": "code",
   "execution_count": 17,
   "id": "962e4c9f",
   "metadata": {},
   "outputs": [],
   "source": [
    "# Ans:\n",
    "class Ticket:\n",
    "    def __init__(self,ticket_id,event_name,event_date,venue,seat_number,price):\n",
    "        self.ticket_id=ticket_id\n",
    "        self.event_name=event_name\n",
    "        self.event_date=event_date\n",
    "        self.venue=venue\n",
    "        self.seat_number=seat_number\n",
    "        self.price=price\n",
    "        self.is_reserved=False\n",
    "    def reserve_ticket(self):\n",
    "        if not self.is_reserved:\n",
    "            self.is_reserved=True\n",
    "            print(f\"Ticket {self.ticket_id} is now reserved.\")\n",
    "        else:\n",
    "            print(f\"Ticket {self.ticket_id} is already reserved\")\n",
    "    def cancel_reservation(self):\n",
    "        if self.is_reserved:\n",
    "            self.is_reserved =False\n",
    "            print(f\"Reservation for Ticket {self.ticket_id} is canceled\")\n",
    "        else:\n",
    "            print(f\"Ticket {self.ticket_id} is not reserved.\")\n",
    "    def display_ticket_info(self):\n",
    "        print(\"Ticket Information :\")\n",
    "        print(f\"Ticket ID : {self.ticket_id}\")\n",
    "        print(f\"Event Name : {self.event_name}\")\n",
    "        print(f\"Event Date : {self.event_date}\")\n",
    "        print(f\"Venue : {self.venue}\")\n",
    "        print(f\"Seat Number : {self.seat_number}\")\n",
    "        print(f\"Price : $ {self.price}\")\n",
    "        print(\"Reservation status : Reserved\" if self.is_reserved else \"Reservation status : Not Reserved\")\n",
    "            \n",
    "            \n",
    "            "
   ]
  },
  {
   "cell_type": "code",
   "execution_count": 18,
   "id": "8a49f505",
   "metadata": {},
   "outputs": [],
   "source": [
    "if __name__==\"__main__\":\n",
    "    ticket1=Ticket(1,\"Concert\",\"2023-08-15\",\"Stadium A\",\"A12\",50.00)"
   ]
  },
  {
   "cell_type": "code",
   "execution_count": 19,
   "id": "3d12511f",
   "metadata": {},
   "outputs": [
    {
     "name": "stdout",
     "output_type": "stream",
     "text": [
      "Ticket Information :\n",
      "Ticket ID : 1\n",
      "Event Name : Concert\n",
      "Event Date : 2023-08-15\n",
      "Venue : Stadium A\n",
      "Seat Number : A12\n",
      "Price : $ 50.0\n",
      "Reservation status : Not Reserved\n"
     ]
    }
   ],
   "source": [
    "ticket1.display_ticket_info()"
   ]
  },
  {
   "cell_type": "markdown",
   "id": "30c7f5ee",
   "metadata": {},
   "source": [
    "Q-9] You are creating a Shopping Cart for an e-commerce website. Using OOP to model the ShoppinhCart functionality the class"
   ]
  },
  {
   "cell_type": "code",
   "execution_count": 4,
   "id": "ecf27b08",
   "metadata": {},
   "outputs": [],
   "source": [
    "# Ans:-\n",
    "class ShoppingCart:\n",
    "    def __init__(self):\n",
    "        self.list_item=[]\n",
    "    def add_item(self,item):\n",
    "        self.list_item.append(item)\n",
    "    def remove_item(self,item):\n",
    "        if item in self.list_item:\n",
    "            self.list_item.remove(item)\n",
    "            print(f\" Item is '{item}' is sold\") \n",
    "        else:\n",
    "            print(\"Item is not available\")\n",
    "    def view_cart(self):\n",
    "        if not self.list_item:\n",
    "            print(\"Your shopping cart is empty.\")\n",
    "        else:\n",
    "            print(\"Items in your shopping cart : \")\n",
    "            for item in self.list_item:\n",
    "                print(\"-\",item)\n",
    "    def clear_cart(self):\n",
    "        self.list_item=[]\n",
    "        "
   ]
  },
  {
   "cell_type": "code",
   "execution_count": 5,
   "id": "cadc67c8",
   "metadata": {},
   "outputs": [],
   "source": [
    "cart=ShoppingCart()"
   ]
  },
  {
   "cell_type": "code",
   "execution_count": 7,
   "id": "3d54923e",
   "metadata": {},
   "outputs": [],
   "source": [
    "cart.add_item(\"Shirt\")\n",
    "cart.add_item(\"Shoes\")\n",
    "cart.add_item(\"Jeans\")\n",
    "cart.add_item(\"Hat\")\n",
    "cart.add_item(\"Pant\")"
   ]
  },
  {
   "cell_type": "code",
   "execution_count": 8,
   "id": "d8e0d5b9",
   "metadata": {},
   "outputs": [
    {
     "name": "stdout",
     "output_type": "stream",
     "text": [
      "Items in your shopping cart : \n",
      "- Shirt\n",
      "- Shirt\n",
      "- Shoes\n",
      "- Jeans\n",
      "- Hat\n",
      "- Pant\n"
     ]
    }
   ],
   "source": [
    "cart.view_cart()"
   ]
  },
  {
   "cell_type": "code",
   "execution_count": 9,
   "id": "aca054a1",
   "metadata": {},
   "outputs": [
    {
     "name": "stdout",
     "output_type": "stream",
     "text": [
      " Item is 'Hat' is sold\n"
     ]
    }
   ],
   "source": [
    "cart.remove_item(\"Hat\")"
   ]
  },
  {
   "cell_type": "code",
   "execution_count": 10,
   "id": "360319ec",
   "metadata": {},
   "outputs": [],
   "source": [
    "cart.clear_cart()"
   ]
  },
  {
   "cell_type": "code",
   "execution_count": 11,
   "id": "dbefd17b",
   "metadata": {},
   "outputs": [
    {
     "name": "stdout",
     "output_type": "stream",
     "text": [
      "Your shopping cart is empty.\n"
     ]
    }
   ],
   "source": [
    "cart.view_cart()"
   ]
  },
  {
   "cell_type": "markdown",
   "id": "5f5664b5",
   "metadata": {},
   "source": [
    "Q-10] Imagine a school management system. You have to design the  \"Student\" class using OOP concepts."
   ]
  },
  {
   "cell_type": "code",
   "execution_count": 9,
   "id": "05adbc4e",
   "metadata": {},
   "outputs": [],
   "source": [
    "#Ans:-\n",
    "class Student:\n",
    "    def __init__(self,name,age,grade,student_id):\n",
    "        self.name=name\n",
    "        self.age=age\n",
    "        self.grade=grade\n",
    "        self.student_id=student_id\n",
    "        self.attendance={}\n",
    "    def update_attendance(self,date,status):\n",
    "        self.attendance[date]=status\n",
    "    def get_attendance(self):\n",
    "        return self.attendance\n",
    "    def get_average_attendance(self):\n",
    "        if not self.attendance:\n",
    "            return 0.0\n",
    "        \n",
    "        total_days=len(self.attendance)\n",
    "        present_days=list(self.attendance.values()).count('Present')\n",
    "        average_attendance=(present_days/total_days)*100\n",
    "        return average_attendance\n",
    "if __name__ == \"__main__\":\n",
    "    student1=Student(\"John Doe\",18,\"Grade 12\",\"ST123456\")\n",
    "    "
   ]
  },
  {
   "cell_type": "code",
   "execution_count": 13,
   "id": "14b033c3",
   "metadata": {},
   "outputs": [],
   "source": [
    "student1.update_attendance(\"2023-07-15\",\"Prasent\")\n",
    "student1.update_attendance(\"2023-07-16\",\"Prasent\")\n",
    "student1.update_attendance(\"2023-07-17\",\"Absent\")\n",
    "student1.update_attendance(\"2023-07-18\",\"Prasent\")\n",
    "student1.update_attendance(\"2023-07-19\",\"Absent\")"
   ]
  },
  {
   "cell_type": "code",
   "execution_count": 14,
   "id": "41c73cc8",
   "metadata": {},
   "outputs": [
    {
     "name": "stdout",
     "output_type": "stream",
     "text": [
      "Attendance : {'2023-07-15': 'Prasent', '2023-07-16': 'Prasent', '2023-07-17': 'Absent', '2023-07-18': 'Prasent', '2023-07-19': 'Absent'}\n"
     ]
    }
   ],
   "source": [
    "attendance_dict=student1.get_attendance()\n",
    "print(\"Attendance :\",attendance_dict)\n"
   ]
  },
  {
   "cell_type": "code",
   "execution_count": 15,
   "id": "0d67f1a1",
   "metadata": {},
   "outputs": [
    {
     "name": "stdout",
     "output_type": "stream",
     "text": [
      "Average Attendance 0.00%\n"
     ]
    }
   ],
   "source": [
    "average_attendance=student1.get_average_attendance()\n",
    "print(\"Average Attendance {:.2f}%\".format(average_attendance))"
   ]
  },
  {
   "cell_type": "code",
   "execution_count": null,
   "id": "a609a8f5",
   "metadata": {},
   "outputs": [],
   "source": []
  }
 ],
 "metadata": {
  "kernelspec": {
   "display_name": "Python 3 (ipykernel)",
   "language": "python",
   "name": "python3"
  },
  "language_info": {
   "codemirror_mode": {
    "name": "ipython",
    "version": 3
   },
   "file_extension": ".py",
   "mimetype": "text/x-python",
   "name": "python",
   "nbconvert_exporter": "python",
   "pygments_lexer": "ipython3",
   "version": "3.11.3"
  }
 },
 "nbformat": 4,
 "nbformat_minor": 5
}
