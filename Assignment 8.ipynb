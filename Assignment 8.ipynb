{
 "cells": [
  {
   "cell_type": "markdown",
   "id": "0d40a6da",
   "metadata": {},
   "source": [
    "Q-1] In Python, what is the difference between a built-in funtion and a user-defined function? Provide an example of each."
   ]
  },
  {
   "cell_type": "markdown",
   "id": "2fe0a171",
   "metadata": {},
   "source": [
    "Ans:- If you define the function yourself, it is a user-defined. On the other hand, the python function that come along with Python are known as in-built functions     \n",
    "Example: User define function : "
   ]
  },
  {
   "cell_type": "code",
   "execution_count": 5,
   "id": "2aa2b69e",
   "metadata": {},
   "outputs": [],
   "source": [
    "def sum(a,b):\n",
    "    return a+b"
   ]
  },
  {
   "cell_type": "code",
   "execution_count": 6,
   "id": "1403ed8b",
   "metadata": {},
   "outputs": [
    {
     "data": {
      "text/plain": [
       "17"
      ]
     },
     "execution_count": 6,
     "metadata": {},
     "output_type": "execute_result"
    }
   ],
   "source": [
    "sum(8,9)"
   ]
  },
  {
   "cell_type": "code",
   "execution_count": 7,
   "id": "32f2a997",
   "metadata": {},
   "outputs": [
    {
     "name": "stdout",
     "output_type": "stream",
     "text": [
      "Hello\n"
     ]
    }
   ],
   "source": [
    "#built-in function\n",
    "print(\"Hello\")"
   ]
  },
  {
   "cell_type": "markdown",
   "id": "b1044d74",
   "metadata": {},
   "source": [
    "Q-2] How can you pass arguments to a function in python? Explain the difference between positional arguments and keyword argument."
   ]
  },
  {
   "cell_type": "markdown",
   "id": "6e23e749",
   "metadata": {},
   "source": [
    "Ans:- Information can be passed into functions as arguments. Arguments are specified after the function name, inside the parentheses. You can add as many arguments as you want, just separate them with a comma.      \n",
    "On using keyword arguments you will get the correct output because the order of argument doesn't matter provided the logic of your code is correct. But in the case of positional arguments, you will get more than one output on changing the order of the arguments."
   ]
  },
  {
   "cell_type": "markdown",
   "id": "ab29dacf",
   "metadata": {},
   "source": [
    "Q-3] What is the purpose of the return statement in a function? can a function have multiple return statements? Explain with an example."
   ]
  },
  {
   "cell_type": "markdown",
   "id": "6aba0f3e",
   "metadata": {},
   "source": [
    "Ans:-The python return statement is used to return the output from a function. A function can have multiple return values in a single statement"
   ]
  },
  {
   "cell_type": "code",
   "execution_count": 8,
   "id": "6aa5add1",
   "metadata": {},
   "outputs": [],
   "source": [
    "#example \n",
    "def sum(a,b):\n",
    "     return a+b  "
   ]
  },
  {
   "cell_type": "code",
   "execution_count": 9,
   "id": "cfbebca5",
   "metadata": {},
   "outputs": [
    {
     "data": {
      "text/plain": [
       "154"
      ]
     },
     "execution_count": 9,
     "metadata": {},
     "output_type": "execute_result"
    }
   ],
   "source": [
    "sum(98,56)"
   ]
  },
  {
   "cell_type": "markdown",
   "id": "bca29d7e",
   "metadata": {},
   "source": [
    "Q-4] What are lambda function in python? How are they different from regular functions? Provide an example where a lambda function can be useful?"
   ]
  },
  {
   "cell_type": "markdown",
   "id": "d07aba99",
   "metadata": {},
   "source": [
    "Ans:- Lambda function are similar to user-defined functions but without a name. They're commonly referred to as anonymous functions. Lambda functions are efficient whenever you want to create a function that will only contain simple expressions that is, expressions that are usually a single line of a statement"
   ]
  },
  {
   "cell_type": "code",
   "execution_count": 10,
   "id": "8846b2fb",
   "metadata": {},
   "outputs": [],
   "source": [
    "# function\n",
    "def sum(x,y):\n",
    "    return x+y\n"
   ]
  },
  {
   "cell_type": "code",
   "execution_count": 11,
   "id": "506e6c66",
   "metadata": {},
   "outputs": [
    {
     "data": {
      "text/plain": [
       "110"
      ]
     },
     "execution_count": 11,
     "metadata": {},
     "output_type": "execute_result"
    }
   ],
   "source": [
    "sum(48,62)"
   ]
  },
  {
   "cell_type": "code",
   "execution_count": 35,
   "id": "7c1625b8",
   "metadata": {},
   "outputs": [
    {
     "name": "stdout",
     "output_type": "stream",
     "text": [
      "13\n"
     ]
    }
   ],
   "source": [
    "#lambda function\n",
    "sum=lambda x,y: x+y\n",
    "print(sum(5,8))"
   ]
  },
  {
   "cell_type": "markdown",
   "id": "58d024e5",
   "metadata": {},
   "source": [
    "Q-5] How does the concept of \"scope\" apply to function in python? Explain the difference between local scope and global scope."
   ]
  },
  {
   "cell_type": "markdown",
   "id": "2d013cd4",
   "metadata": {},
   "source": [
    "Ans:-The scope determines the accessiblility of variables and other resources on the code, like function and object      \n",
    "A local scope refer to the local objects available in the current function.     \n",
    "A global scope refers to the objects available throughout the code execution since their inception.\n",
    "    "
   ]
  },
  {
   "cell_type": "markdown",
   "id": "ea9048e9",
   "metadata": {},
   "source": [
    "Q-6] How can you use the \"return\" statement in a python function to return multiple values?"
   ]
  },
  {
   "cell_type": "markdown",
   "id": "3c4d92bb",
   "metadata": {},
   "source": [
    "Ans:-You can use a return statement to return multiple values from a function. to do that , you just need to supply several return values separated by commas."
   ]
  },
  {
   "cell_type": "markdown",
   "id": "a95a714b",
   "metadata": {},
   "source": [
    "Q-7]What is the difference between the pass by value and pass by reference concepts when it comes to function arguments in python?"
   ]
  },
  {
   "cell_type": "markdown",
   "id": "e799c0ab",
   "metadata": {},
   "source": [
    "Ans:- When you pass function arguments by reference, those arguments are only references to existing values. In contrast when you pass arguments by value , those arguments become independant copies of the original values."
   ]
  },
  {
   "cell_type": "markdown",
   "id": "e1a9967a",
   "metadata": {},
   "source": [
    "Q-8] Create a function that can intake integer or decimal value and do following operations:   \n",
    "a. Logarithmic function(log x)    b. Exponential function(exp(x))     c. Power function with base 2 (2x)  d. Square root"
   ]
  },
  {
   "cell_type": "code",
   "execution_count": 4,
   "id": "771d3831",
   "metadata": {},
   "outputs": [
    {
     "name": "stdout",
     "output_type": "stream",
     "text": [
      "Log value:  1.0986122886681098\n"
     ]
    }
   ],
   "source": [
    "# Ans:-\n",
    "import math\n",
    "print(\"Log value: \",math.log(3))"
   ]
  },
  {
   "cell_type": "code",
   "execution_count": 5,
   "id": "8d497b19",
   "metadata": {},
   "outputs": [
    {
     "name": "stdout",
     "output_type": "stream",
     "text": [
      "Exponential value is :  54.598150033144236\n"
     ]
    }
   ],
   "source": [
    "import math\n",
    "exponent =4\n",
    "print(\"Exponential value is : \",math.exp(exponent))"
   ]
  },
  {
   "cell_type": "code",
   "execution_count": 6,
   "id": "7fabdf62",
   "metadata": {},
   "outputs": [
    {
     "name": "stdout",
     "output_type": "stream",
     "text": [
      "Answer = 16\n"
     ]
    }
   ],
   "source": [
    "base=2\n",
    "exponent=4\n",
    "result=pow(base,exponent)\n",
    "print(\"Answer = \"+str(result))"
   ]
  },
  {
   "cell_type": "code",
   "execution_count": 7,
   "id": "525c8739",
   "metadata": {},
   "outputs": [
    {
     "name": "stdout",
     "output_type": "stream",
     "text": [
      "3.0\n"
     ]
    }
   ],
   "source": [
    "import math\n",
    "print(math.sqrt(9))"
   ]
  },
  {
   "cell_type": "markdown",
   "id": "100d01b2",
   "metadata": {},
   "source": [
    "Q-9] Create a function that takes a full name as an argument and returns first name and last name."
   ]
  },
  {
   "cell_type": "code",
   "execution_count": 33,
   "id": "beae78f8",
   "metadata": {},
   "outputs": [],
   "source": [
    "# Ans:-\n",
    "def full_name(fullname):\n",
    "    l=fullname.split()\n",
    "    first_name=l[0]\n",
    "    last_name=l[1]\n",
    "    return first_name, last_name"
   ]
  },
  {
   "cell_type": "code",
   "execution_count": 34,
   "id": "8861b260",
   "metadata": {},
   "outputs": [
    {
     "name": "stdout",
     "output_type": "stream",
     "text": [
      "First name:  Pravin\n",
      "Last name:  mane\n"
     ]
    }
   ],
   "source": [
    "fullname=\"Pravin mane\"\n",
    "first_name, last_name=full_name(fullname)\n",
    "print(\"First name: \",first_name)\n",
    "print(\"Last name: \",last_name)"
   ]
  },
  {
   "cell_type": "code",
   "execution_count": null,
   "id": "77f609cd",
   "metadata": {},
   "outputs": [],
   "source": []
  }
 ],
 "metadata": {
  "kernelspec": {
   "display_name": "Python 3 (ipykernel)",
   "language": "python",
   "name": "python3"
  },
  "language_info": {
   "codemirror_mode": {
    "name": "ipython",
    "version": 3
   },
   "file_extension": ".py",
   "mimetype": "text/x-python",
   "name": "python",
   "nbconvert_exporter": "python",
   "pygments_lexer": "ipython3",
   "version": "3.11.2"
  }
 },
 "nbformat": 4,
 "nbformat_minor": 5
}
